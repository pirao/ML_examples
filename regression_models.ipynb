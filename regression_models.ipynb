{
 "cells": [
  {
   "cell_type": "markdown",
   "metadata": {
    "tags": []
   },
   "source": [
    "# Importing packages"
   ]
  },
  {
   "cell_type": "code",
   "execution_count": 1,
   "metadata": {
    "ExecuteTime": {
     "end_time": "2021-08-24T20:43:32.062314Z",
     "start_time": "2021-08-24T20:43:21.003319Z"
    }
   },
   "outputs": [],
   "source": [
    "from utils.model_summary_functions import feature_importance, metrics, summary_plot,multivariate_importance"
   ]
  },
  {
   "cell_type": "code",
   "execution_count": 2,
   "metadata": {
    "ExecuteTime": {
     "end_time": "2021-08-24T20:43:32.156314Z",
     "start_time": "2021-08-24T20:43:32.064315Z"
    }
   },
   "outputs": [],
   "source": [
    "import pandas as pd\n",
    "import seaborn as sns\n",
    "import numpy as np\n",
    "import matplotlib.pyplot as plt\n",
    "import math \n",
    "import ppscore as pps\n",
    "from tqdm import tqdm\n",
    "import pickle\n",
    "import tensorflow as tf\n",
    "\n",
    "from sklearn.metrics import mean_squared_error, f1_score, accuracy_score, mean_absolute_error, r2_score\n",
    "from sklearn.model_selection import cross_val_score, train_test_split, KFold\n",
    "from sklearn.preprocessing import StandardScaler, LabelEncoder, OneHotEncoder, RobustScaler\n",
    "from sklearn.ensemble import RandomForestRegressor, AdaBoostRegressor,GradientBoostingRegressor, ExtraTreesRegressor\n",
    "from sklearn.linear_model import LassoLarsCV,LassoCV, Lasso\n",
    "\n",
    "\n",
    "from yellowbrick.model_selection import FeatureImportances\n",
    "from yellowbrick.regressor import residuals_plot\n",
    "from yellowbrick.regressor import prediction_error\n",
    "from yellowbrick.model_selection import learning_curve\n",
    "from yellowbrick.model_selection import feature_importances\n",
    "\n",
    "import xgboost as xgb"
   ]
  },
  {
   "cell_type": "code",
   "execution_count": 3,
   "metadata": {
    "ExecuteTime": {
     "end_time": "2021-08-24T20:43:32.438314Z",
     "start_time": "2021-08-24T20:43:32.158315Z"
    }
   },
   "outputs": [],
   "source": [
    "physical_devices = tf.config.list_physical_devices('GPU') \n",
    "tf.config.experimental.set_memory_growth(physical_devices[0], True)"
   ]
  },
  {
   "cell_type": "code",
   "execution_count": 4,
   "metadata": {
    "ExecuteTime": {
     "end_time": "2021-08-24T20:43:32.454314Z",
     "start_time": "2021-08-24T20:43:32.439314Z"
    }
   },
   "outputs": [],
   "source": [
    "import warnings  # Ignore alert messages\n",
    "warnings.filterwarnings('ignore')"
   ]
  },
  {
   "cell_type": "code",
   "execution_count": 5,
   "metadata": {
    "ExecuteTime": {
     "end_time": "2021-08-24T20:43:32.469314Z",
     "start_time": "2021-08-24T20:43:32.456314Z"
    }
   },
   "outputs": [],
   "source": [
    "plt.style.use('default')\n",
    "\n",
    "plt.rcParams.update({\n",
    "    'font.size': 16,\n",
    "    'axes.linewidth': 2,\n",
    "    'axes.titlesize': 20,\n",
    "    'axes.edgecolor': 'black',\n",
    "    'axes.labelsize': 20,\n",
    "    'axes.grid': True,\n",
    "    'lines.linewidth': 1.5,\n",
    "    'lines.markersize': 6,\n",
    "    'figure.figsize': (15, 6),\n",
    "    'xtick.labelsize': 14,\n",
    "    'ytick.labelsize': 14,\n",
    "    'font.family': 'Arial',\n",
    "    'legend.fontsize': 13,\n",
    "    'legend.framealpha': 1,\n",
    "    'legend.edgecolor': 'black',\n",
    "    'legend.shadow': False,\n",
    "    'legend.fancybox': True,\n",
    "    'legend.frameon': True,\n",
    "})"
   ]
  },
  {
   "cell_type": "markdown",
   "metadata": {},
   "source": [
    "# Importing dataset after EDA"
   ]
  },
  {
   "cell_type": "code",
   "execution_count": 6,
   "metadata": {
    "ExecuteTime": {
     "end_time": "2021-08-24T20:43:33.214319Z",
     "start_time": "2021-08-24T20:43:32.471314Z"
    }
   },
   "outputs": [
    {
     "data": {
      "text/html": [
       "<div>\n",
       "<style scoped>\n",
       "    .dataframe tbody tr th:only-of-type {\n",
       "        vertical-align: middle;\n",
       "    }\n",
       "\n",
       "    .dataframe tbody tr th {\n",
       "        vertical-align: top;\n",
       "    }\n",
       "\n",
       "    .dataframe thead th {\n",
       "        text-align: right;\n",
       "    }\n",
       "</style>\n",
       "<table border=\"1\" class=\"dataframe\">\n",
       "  <thead>\n",
       "    <tr style=\"text-align: right;\">\n",
       "      <th></th>\n",
       "      <th>Trail_right_z_sec_susp</th>\n",
       "      <th>Lead_left_z_sec_susp</th>\n",
       "      <th>Trail_left_z_sec_susp</th>\n",
       "      <th>Lead_right_z_sec_susp</th>\n",
       "      <th>Triaxial_x</th>\n",
       "      <th>Triaxial_z</th>\n",
       "      <th>Lead_z_accel_right_side</th>\n",
       "      <th>Susp_travel_left</th>\n",
       "      <th>Susp_travel_right</th>\n",
       "      <th>Pitch_accel</th>\n",
       "      <th>...</th>\n",
       "      <th>Triaxial_x_RMA_55 samples</th>\n",
       "      <th>Triaxial_x_MA_55 samples</th>\n",
       "      <th>Triaxial_x_RMS_55 samples</th>\n",
       "      <th>Triaxial_z_mean_55 samples</th>\n",
       "      <th>Susp_travel_mean_55 samples</th>\n",
       "      <th>Susp_travel_skew_55 samples</th>\n",
       "      <th>Pitch_left_susp_mean_55 samples</th>\n",
       "      <th>Bounce_susp_mean_55 samples</th>\n",
       "      <th>Front_Roll_susp_skew_55 samples</th>\n",
       "      <th>Vert_irreg_right_rail</th>\n",
       "    </tr>\n",
       "  </thead>\n",
       "  <tbody>\n",
       "    <tr>\n",
       "      <th>0</th>\n",
       "      <td>-0.034100</td>\n",
       "      <td>0.030900</td>\n",
       "      <td>0.021800</td>\n",
       "      <td>-0.0218</td>\n",
       "      <td>-0.000116</td>\n",
       "      <td>-0.000749</td>\n",
       "      <td>-0.001817</td>\n",
       "      <td>0.030900</td>\n",
       "      <td>-0.034100</td>\n",
       "      <td>-0.000459</td>\n",
       "      <td>...</td>\n",
       "      <td>0.008054</td>\n",
       "      <td>0.000065</td>\n",
       "      <td>0.000457</td>\n",
       "      <td>-0.000293</td>\n",
       "      <td>0.004538</td>\n",
       "      <td>-1.143003</td>\n",
       "      <td>0.000911</td>\n",
       "      <td>0.001606</td>\n",
       "      <td>0.941525</td>\n",
       "      <td>-0.0712</td>\n",
       "    </tr>\n",
       "    <tr>\n",
       "      <th>1</th>\n",
       "      <td>-0.035600</td>\n",
       "      <td>0.031600</td>\n",
       "      <td>0.022800</td>\n",
       "      <td>-0.0228</td>\n",
       "      <td>-0.000139</td>\n",
       "      <td>-0.000749</td>\n",
       "      <td>-0.001812</td>\n",
       "      <td>0.031600</td>\n",
       "      <td>-0.035600</td>\n",
       "      <td>-0.000542</td>\n",
       "      <td>...</td>\n",
       "      <td>0.008238</td>\n",
       "      <td>0.000068</td>\n",
       "      <td>0.000457</td>\n",
       "      <td>-0.000307</td>\n",
       "      <td>0.003883</td>\n",
       "      <td>-1.156428</td>\n",
       "      <td>0.000941</td>\n",
       "      <td>0.001485</td>\n",
       "      <td>0.893110</td>\n",
       "      <td>-0.0753</td>\n",
       "    </tr>\n",
       "    <tr>\n",
       "      <th>2</th>\n",
       "      <td>-0.036700</td>\n",
       "      <td>0.032000</td>\n",
       "      <td>0.023700</td>\n",
       "      <td>-0.0239</td>\n",
       "      <td>-0.000162</td>\n",
       "      <td>-0.000727</td>\n",
       "      <td>-0.001605</td>\n",
       "      <td>0.032000</td>\n",
       "      <td>-0.036700</td>\n",
       "      <td>-0.000613</td>\n",
       "      <td>...</td>\n",
       "      <td>0.008436</td>\n",
       "      <td>0.000071</td>\n",
       "      <td>0.000458</td>\n",
       "      <td>-0.000320</td>\n",
       "      <td>0.003208</td>\n",
       "      <td>-1.139831</td>\n",
       "      <td>0.000970</td>\n",
       "      <td>0.001362</td>\n",
       "      <td>0.843661</td>\n",
       "      <td>-0.0791</td>\n",
       "    </tr>\n",
       "    <tr>\n",
       "      <th>3</th>\n",
       "      <td>-0.037000</td>\n",
       "      <td>0.031400</td>\n",
       "      <td>0.024400</td>\n",
       "      <td>-0.0248</td>\n",
       "      <td>-0.000182</td>\n",
       "      <td>-0.000650</td>\n",
       "      <td>-0.000912</td>\n",
       "      <td>0.031400</td>\n",
       "      <td>-0.037000</td>\n",
       "      <td>-0.000654</td>\n",
       "      <td>...</td>\n",
       "      <td>0.008647</td>\n",
       "      <td>0.000075</td>\n",
       "      <td>0.000459</td>\n",
       "      <td>-0.000332</td>\n",
       "      <td>0.002527</td>\n",
       "      <td>-1.100159</td>\n",
       "      <td>0.000993</td>\n",
       "      <td>0.001242</td>\n",
       "      <td>0.787577</td>\n",
       "      <td>-0.0827</td>\n",
       "    </tr>\n",
       "    <tr>\n",
       "      <th>4</th>\n",
       "      <td>-0.037300</td>\n",
       "      <td>0.030900</td>\n",
       "      <td>0.025100</td>\n",
       "      <td>-0.0257</td>\n",
       "      <td>-0.000202</td>\n",
       "      <td>-0.000574</td>\n",
       "      <td>-0.000219</td>\n",
       "      <td>0.030900</td>\n",
       "      <td>-0.037300</td>\n",
       "      <td>-0.000695</td>\n",
       "      <td>...</td>\n",
       "      <td>0.008870</td>\n",
       "      <td>0.000079</td>\n",
       "      <td>0.000459</td>\n",
       "      <td>-0.000342</td>\n",
       "      <td>0.001840</td>\n",
       "      <td>-1.048016</td>\n",
       "      <td>0.001013</td>\n",
       "      <td>0.001125</td>\n",
       "      <td>0.728316</td>\n",
       "      <td>-0.0858</td>\n",
       "    </tr>\n",
       "    <tr>\n",
       "      <th>...</th>\n",
       "      <td>...</td>\n",
       "      <td>...</td>\n",
       "      <td>...</td>\n",
       "      <td>...</td>\n",
       "      <td>...</td>\n",
       "      <td>...</td>\n",
       "      <td>...</td>\n",
       "      <td>...</td>\n",
       "      <td>...</td>\n",
       "      <td>...</td>\n",
       "      <td>...</td>\n",
       "      <td>...</td>\n",
       "      <td>...</td>\n",
       "      <td>...</td>\n",
       "      <td>...</td>\n",
       "      <td>...</td>\n",
       "      <td>...</td>\n",
       "      <td>...</td>\n",
       "      <td>...</td>\n",
       "      <td>...</td>\n",
       "      <td>...</td>\n",
       "    </tr>\n",
       "    <tr>\n",
       "      <th>68096</th>\n",
       "      <td>-0.111903</td>\n",
       "      <td>-0.231038</td>\n",
       "      <td>0.133286</td>\n",
       "      <td>0.0503</td>\n",
       "      <td>0.001834</td>\n",
       "      <td>0.000079</td>\n",
       "      <td>0.004336</td>\n",
       "      <td>-0.231038</td>\n",
       "      <td>-0.111903</td>\n",
       "      <td>-0.003638</td>\n",
       "      <td>...</td>\n",
       "      <td>0.053665</td>\n",
       "      <td>0.002880</td>\n",
       "      <td>0.004202</td>\n",
       "      <td>-0.009225</td>\n",
       "      <td>-0.722654</td>\n",
       "      <td>-0.835219</td>\n",
       "      <td>-0.063069</td>\n",
       "      <td>-0.147773</td>\n",
       "      <td>-0.773285</td>\n",
       "      <td>0.0486</td>\n",
       "    </tr>\n",
       "    <tr>\n",
       "      <th>68097</th>\n",
       "      <td>-0.113222</td>\n",
       "      <td>-0.225703</td>\n",
       "      <td>0.140285</td>\n",
       "      <td>0.0422</td>\n",
       "      <td>0.001846</td>\n",
       "      <td>-0.000082</td>\n",
       "      <td>0.003567</td>\n",
       "      <td>-0.225703</td>\n",
       "      <td>-0.113222</td>\n",
       "      <td>-0.003363</td>\n",
       "      <td>...</td>\n",
       "      <td>0.053726</td>\n",
       "      <td>0.002887</td>\n",
       "      <td>0.004204</td>\n",
       "      <td>-0.008988</td>\n",
       "      <td>-0.693827</td>\n",
       "      <td>-0.847119</td>\n",
       "      <td>-0.063281</td>\n",
       "      <td>-0.143451</td>\n",
       "      <td>-0.788629</td>\n",
       "      <td>0.0511</td>\n",
       "    </tr>\n",
       "    <tr>\n",
       "      <th>68098</th>\n",
       "      <td>-0.114092</td>\n",
       "      <td>-0.220937</td>\n",
       "      <td>0.148758</td>\n",
       "      <td>0.0347</td>\n",
       "      <td>0.001823</td>\n",
       "      <td>-0.000321</td>\n",
       "      <td>0.002644</td>\n",
       "      <td>-0.220937</td>\n",
       "      <td>-0.114092</td>\n",
       "      <td>-0.003317</td>\n",
       "      <td>...</td>\n",
       "      <td>0.053553</td>\n",
       "      <td>0.002868</td>\n",
       "      <td>0.004196</td>\n",
       "      <td>-0.008838</td>\n",
       "      <td>-0.666117</td>\n",
       "      <td>-0.856692</td>\n",
       "      <td>-0.063529</td>\n",
       "      <td>-0.139384</td>\n",
       "      <td>-0.803025</td>\n",
       "      <td>0.0535</td>\n",
       "    </tr>\n",
       "    <tr>\n",
       "      <th>68099</th>\n",
       "      <td>-0.114961</td>\n",
       "      <td>-0.216170</td>\n",
       "      <td>0.157232</td>\n",
       "      <td>0.0272</td>\n",
       "      <td>0.001800</td>\n",
       "      <td>-0.000559</td>\n",
       "      <td>0.001721</td>\n",
       "      <td>-0.216170</td>\n",
       "      <td>-0.114961</td>\n",
       "      <td>-0.003272</td>\n",
       "      <td>...</td>\n",
       "      <td>0.053190</td>\n",
       "      <td>0.002829</td>\n",
       "      <td>0.004170</td>\n",
       "      <td>-0.008807</td>\n",
       "      <td>-0.639543</td>\n",
       "      <td>-0.864403</td>\n",
       "      <td>-0.063821</td>\n",
       "      <td>-0.135586</td>\n",
       "      <td>-0.816822</td>\n",
       "      <td>0.0558</td>\n",
       "    </tr>\n",
       "    <tr>\n",
       "      <th>68100</th>\n",
       "      <td>-0.115745</td>\n",
       "      <td>-0.211667</td>\n",
       "      <td>0.165799</td>\n",
       "      <td>0.0201</td>\n",
       "      <td>0.001763</td>\n",
       "      <td>-0.000803</td>\n",
       "      <td>0.000734</td>\n",
       "      <td>-0.211667</td>\n",
       "      <td>-0.115745</td>\n",
       "      <td>-0.002974</td>\n",
       "      <td>...</td>\n",
       "      <td>0.052703</td>\n",
       "      <td>0.002778</td>\n",
       "      <td>0.004127</td>\n",
       "      <td>-0.008880</td>\n",
       "      <td>-0.614127</td>\n",
       "      <td>-0.871210</td>\n",
       "      <td>-0.064169</td>\n",
       "      <td>-0.132076</td>\n",
       "      <td>-0.830542</td>\n",
       "      <td>0.0578</td>\n",
       "    </tr>\n",
       "  </tbody>\n",
       "</table>\n",
       "<p>68101 rows × 31 columns</p>\n",
       "</div>"
      ],
      "text/plain": [
       "       Trail_right_z_sec_susp  Lead_left_z_sec_susp  Trail_left_z_sec_susp  \\\n",
       "0                   -0.034100              0.030900               0.021800   \n",
       "1                   -0.035600              0.031600               0.022800   \n",
       "2                   -0.036700              0.032000               0.023700   \n",
       "3                   -0.037000              0.031400               0.024400   \n",
       "4                   -0.037300              0.030900               0.025100   \n",
       "...                       ...                   ...                    ...   \n",
       "68096               -0.111903             -0.231038               0.133286   \n",
       "68097               -0.113222             -0.225703               0.140285   \n",
       "68098               -0.114092             -0.220937               0.148758   \n",
       "68099               -0.114961             -0.216170               0.157232   \n",
       "68100               -0.115745             -0.211667               0.165799   \n",
       "\n",
       "       Lead_right_z_sec_susp  Triaxial_x  Triaxial_z  Lead_z_accel_right_side  \\\n",
       "0                    -0.0218   -0.000116   -0.000749                -0.001817   \n",
       "1                    -0.0228   -0.000139   -0.000749                -0.001812   \n",
       "2                    -0.0239   -0.000162   -0.000727                -0.001605   \n",
       "3                    -0.0248   -0.000182   -0.000650                -0.000912   \n",
       "4                    -0.0257   -0.000202   -0.000574                -0.000219   \n",
       "...                      ...         ...         ...                      ...   \n",
       "68096                 0.0503    0.001834    0.000079                 0.004336   \n",
       "68097                 0.0422    0.001846   -0.000082                 0.003567   \n",
       "68098                 0.0347    0.001823   -0.000321                 0.002644   \n",
       "68099                 0.0272    0.001800   -0.000559                 0.001721   \n",
       "68100                 0.0201    0.001763   -0.000803                 0.000734   \n",
       "\n",
       "       Susp_travel_left  Susp_travel_right  Pitch_accel  ...  \\\n",
       "0              0.030900          -0.034100    -0.000459  ...   \n",
       "1              0.031600          -0.035600    -0.000542  ...   \n",
       "2              0.032000          -0.036700    -0.000613  ...   \n",
       "3              0.031400          -0.037000    -0.000654  ...   \n",
       "4              0.030900          -0.037300    -0.000695  ...   \n",
       "...                 ...                ...          ...  ...   \n",
       "68096         -0.231038          -0.111903    -0.003638  ...   \n",
       "68097         -0.225703          -0.113222    -0.003363  ...   \n",
       "68098         -0.220937          -0.114092    -0.003317  ...   \n",
       "68099         -0.216170          -0.114961    -0.003272  ...   \n",
       "68100         -0.211667          -0.115745    -0.002974  ...   \n",
       "\n",
       "       Triaxial_x_RMA_55 samples  Triaxial_x_MA_55 samples  \\\n",
       "0                       0.008054                  0.000065   \n",
       "1                       0.008238                  0.000068   \n",
       "2                       0.008436                  0.000071   \n",
       "3                       0.008647                  0.000075   \n",
       "4                       0.008870                  0.000079   \n",
       "...                          ...                       ...   \n",
       "68096                   0.053665                  0.002880   \n",
       "68097                   0.053726                  0.002887   \n",
       "68098                   0.053553                  0.002868   \n",
       "68099                   0.053190                  0.002829   \n",
       "68100                   0.052703                  0.002778   \n",
       "\n",
       "       Triaxial_x_RMS_55 samples  Triaxial_z_mean_55 samples  \\\n",
       "0                       0.000457                   -0.000293   \n",
       "1                       0.000457                   -0.000307   \n",
       "2                       0.000458                   -0.000320   \n",
       "3                       0.000459                   -0.000332   \n",
       "4                       0.000459                   -0.000342   \n",
       "...                          ...                         ...   \n",
       "68096                   0.004202                   -0.009225   \n",
       "68097                   0.004204                   -0.008988   \n",
       "68098                   0.004196                   -0.008838   \n",
       "68099                   0.004170                   -0.008807   \n",
       "68100                   0.004127                   -0.008880   \n",
       "\n",
       "       Susp_travel_mean_55 samples  Susp_travel_skew_55 samples  \\\n",
       "0                         0.004538                    -1.143003   \n",
       "1                         0.003883                    -1.156428   \n",
       "2                         0.003208                    -1.139831   \n",
       "3                         0.002527                    -1.100159   \n",
       "4                         0.001840                    -1.048016   \n",
       "...                            ...                          ...   \n",
       "68096                    -0.722654                    -0.835219   \n",
       "68097                    -0.693827                    -0.847119   \n",
       "68098                    -0.666117                    -0.856692   \n",
       "68099                    -0.639543                    -0.864403   \n",
       "68100                    -0.614127                    -0.871210   \n",
       "\n",
       "       Pitch_left_susp_mean_55 samples  Bounce_susp_mean_55 samples  \\\n",
       "0                             0.000911                     0.001606   \n",
       "1                             0.000941                     0.001485   \n",
       "2                             0.000970                     0.001362   \n",
       "3                             0.000993                     0.001242   \n",
       "4                             0.001013                     0.001125   \n",
       "...                                ...                          ...   \n",
       "68096                        -0.063069                    -0.147773   \n",
       "68097                        -0.063281                    -0.143451   \n",
       "68098                        -0.063529                    -0.139384   \n",
       "68099                        -0.063821                    -0.135586   \n",
       "68100                        -0.064169                    -0.132076   \n",
       "\n",
       "       Front_Roll_susp_skew_55 samples  Vert_irreg_right_rail  \n",
       "0                             0.941525                -0.0712  \n",
       "1                             0.893110                -0.0753  \n",
       "2                             0.843661                -0.0791  \n",
       "3                             0.787577                -0.0827  \n",
       "4                             0.728316                -0.0858  \n",
       "...                                ...                    ...  \n",
       "68096                        -0.773285                 0.0486  \n",
       "68097                        -0.788629                 0.0511  \n",
       "68098                        -0.803025                 0.0535  \n",
       "68099                        -0.816822                 0.0558  \n",
       "68100                        -0.830542                 0.0578  \n",
       "\n",
       "[68101 rows x 31 columns]"
      ]
     },
     "execution_count": 6,
     "metadata": {},
     "output_type": "execute_result"
    }
   ],
   "source": [
    "df = pd.read_csv(\"Processed_data/FRA3-FRA6_cleaned_feature_engineered.csv.zip\")\n",
    "df"
   ]
  },
  {
   "cell_type": "code",
   "execution_count": 7,
   "metadata": {
    "ExecuteTime": {
     "end_time": "2021-08-24T20:43:33.230318Z",
     "start_time": "2021-08-24T20:43:33.217322Z"
    }
   },
   "outputs": [],
   "source": [
    "df_aux = df.copy()"
   ]
  },
  {
   "cell_type": "code",
   "execution_count": 8,
   "metadata": {
    "ExecuteTime": {
     "end_time": "2021-08-24T20:43:33.246318Z",
     "start_time": "2021-08-24T20:43:33.232315Z"
    }
   },
   "outputs": [],
   "source": [
    "def create_scaled_dataset(X,y):\n",
    "    X_train, X_test, y_train, y_test = train_test_split(X, y,test_size=0.3,random_state=0,shuffle=True) \n",
    "\n",
    "    std_scaler = StandardScaler()\n",
    "    X_scaled_train = pd.DataFrame(std_scaler.fit_transform(X_train),columns=X_train.columns,index=X_train.index)\n",
    "    X_scaled_test = pd.DataFrame(std_scaler.transform(X_test),columns=X_train.columns,index=X_test.index)\n",
    "    return X_scaled_train,X_scaled_test, y_train,y_test"
   ]
  },
  {
   "cell_type": "code",
   "execution_count": 9,
   "metadata": {
    "ExecuteTime": {
     "end_time": "2021-08-24T20:43:33.325318Z",
     "start_time": "2021-08-24T20:43:33.248319Z"
    }
   },
   "outputs": [],
   "source": [
    "y = df_aux['Vert_irreg_right_rail']\n",
    "X = df_aux.drop(['Vert_irreg_right_rail'],axis=1)\n",
    "\n",
    "X_scaled_train,X_scaled_test,y_train,y_test = create_scaled_dataset(X,y)"
   ]
  },
  {
   "cell_type": "markdown",
   "metadata": {},
   "source": [
    "# Training and optimizing traditional machine learning models"
   ]
  },
  {
   "cell_type": "code",
   "execution_count": 10,
   "metadata": {
    "ExecuteTime": {
     "end_time": "2021-08-24T20:43:34.056318Z",
     "start_time": "2021-08-24T20:43:33.327320Z"
    }
   },
   "outputs": [],
   "source": [
    "from utils.Regression_models import RegModels"
   ]
  },
  {
   "cell_type": "code",
   "execution_count": 11,
   "metadata": {
    "ExecuteTime": {
     "end_time": "2021-08-24T20:43:34.072319Z",
     "start_time": "2021-08-24T20:43:34.058318Z"
    }
   },
   "outputs": [],
   "source": [
    "modelList = {#'Lasso': 50,\n",
    "             #'Ridge':   50,\n",
    "             #'Elastic_Net':   50,\n",
    "             #'SGD_Reg':100,\n",
    "              #'Random_Forest':   40,\n",
    "              'Extra_Trees':  40,\n",
    "              #'Ada_Boost':   100,\n",
    "              #'XGBR':  100,\n",
    "              #'Cat_Boost':  100,\n",
    "              #'Light_Boost':  100,\n",
    "              #'Ridge_CV': 2\n",
    "}"
   ]
  },
  {
   "cell_type": "code",
   "execution_count": 12,
   "metadata": {
    "ExecuteTime": {
     "end_time": "2021-08-24T20:43:34.088318Z",
     "start_time": "2021-08-24T20:43:34.074319Z"
    }
   },
   "outputs": [],
   "source": [
    "obj = RegModels(modo=\"optimize\", X_trainS=X_scaled_train,X_testS=X_scaled_test, y_trainS=y_train, y_testS=y_test)"
   ]
  },
  {
   "cell_type": "code",
   "execution_count": 13,
   "metadata": {
    "ExecuteTime": {
     "end_time": "2021-08-24T20:55:24.027594Z",
     "start_time": "2021-08-24T20:43:34.090315Z"
    },
    "scrolled": false
   },
   "outputs": [
    {
     "name": "stderr",
     "output_type": "stream",
     "text": [
      "  0%|                                                                                                                                                                                                                 | 0/1 [00:00<?, ?it/s]\u001b[32m[I 2021-08-24 17:43:34,097]\u001b[0m A new study created in memory with name: no-name-5bea07b5-b220-4fc9-a2ce-79ce6035977b\u001b[0m\n"
     ]
    },
    {
     "name": "stdout",
     "output_type": "stream",
     "text": [
      "Optimizing model Extra_Trees\n"
     ]
    },
    {
     "name": "stderr",
     "output_type": "stream",
     "text": [
      "\u001b[32m[I 2021-08-24 17:43:50,796]\u001b[0m Trial 0 finished with value: 0.8732164621503636 and parameters: {'n_estimators': 440, 'max_depth': 4, 'min_samples_split': 4, 'min_samples_leaf': 3, 'bootstrap': True}. Best is trial 0 with value: 0.8732164621503636.\u001b[0m\n",
      "\u001b[32m[I 2021-08-24 17:43:54,702]\u001b[0m Trial 1 finished with value: 0.8697472395581805 and parameters: {'n_estimators': 80, 'max_depth': 1, 'min_samples_split': 4, 'min_samples_leaf': 3, 'bootstrap': False}. Best is trial 0 with value: 0.8732164621503636.\u001b[0m\n",
      "\u001b[32m[I 2021-08-24 17:43:58,519]\u001b[0m Trial 2 finished with value: 0.8147519505040242 and parameters: {'n_estimators': 120, 'max_depth': 3, 'min_samples_split': 2, 'min_samples_leaf': 6, 'bootstrap': False}. Best is trial 0 with value: 0.8732164621503636.\u001b[0m\n",
      "\u001b[32m[I 2021-08-24 17:44:06,247]\u001b[0m Trial 3 finished with value: 0.8526375616109421 and parameters: {'n_estimators': 220, 'max_depth': 4, 'min_samples_split': 4, 'min_samples_leaf': 4, 'bootstrap': False}. Best is trial 0 with value: 0.8732164621503636.\u001b[0m\n",
      "\u001b[32m[I 2021-08-24 17:44:25,113]\u001b[0m Trial 4 finished with value: 0.8732797475535378 and parameters: {'n_estimators': 580, 'max_depth': 5, 'min_samples_split': 2, 'min_samples_leaf': 3, 'bootstrap': False}. Best is trial 4 with value: 0.8732797475535378.\u001b[0m\n",
      "\u001b[32m[I 2021-08-24 17:44:39,341]\u001b[0m Trial 5 pruned. \u001b[0m\n",
      "\u001b[32m[I 2021-08-24 17:44:52,858]\u001b[0m Trial 6 pruned. \u001b[0m\n",
      "\u001b[32m[I 2021-08-24 17:45:07,462]\u001b[0m Trial 7 finished with value: 0.891926161652304 and parameters: {'n_estimators': 260, 'max_depth': 4, 'min_samples_split': 2, 'min_samples_leaf': 2, 'bootstrap': True}. Best is trial 7 with value: 0.891926161652304.\u001b[0m\n",
      "\u001b[32m[I 2021-08-24 17:45:23,548]\u001b[0m Trial 8 finished with value: 0.8730779987101741 and parameters: {'n_estimators': 380, 'max_depth': 6, 'min_samples_split': 3, 'min_samples_leaf': 3, 'bootstrap': True}. Best is trial 7 with value: 0.891926161652304.\u001b[0m\n",
      "\u001b[32m[I 2021-08-24 17:45:32,002]\u001b[0m Trial 9 finished with value: 0.892269519763608 and parameters: {'n_estimators': 160, 'max_depth': 1, 'min_samples_split': 6, 'min_samples_leaf': 1, 'bootstrap': True}. Best is trial 9 with value: 0.892269519763608.\u001b[0m\n",
      "\u001b[32m[I 2021-08-24 17:45:40,367]\u001b[0m Trial 10 finished with value: 0.892407477877794 and parameters: {'n_estimators': 180, 'max_depth': 2, 'min_samples_split': 6, 'min_samples_leaf': 1, 'bootstrap': True}. Best is trial 10 with value: 0.892407477877794.\u001b[0m\n",
      "\u001b[32m[I 2021-08-24 17:45:48,700]\u001b[0m Trial 11 finished with value: 0.892407477877794 and parameters: {'n_estimators': 180, 'max_depth': 2, 'min_samples_split': 6, 'min_samples_leaf': 1, 'bootstrap': True}. Best is trial 10 with value: 0.892407477877794.\u001b[0m\n",
      "\u001b[32m[I 2021-08-24 17:46:00,163]\u001b[0m Trial 12 finished with value: 0.892653451616123 and parameters: {'n_estimators': 240, 'max_depth': 2, 'min_samples_split': 6, 'min_samples_leaf': 1, 'bootstrap': True}. Best is trial 12 with value: 0.892653451616123.\u001b[0m\n",
      "\u001b[32m[I 2021-08-24 17:46:15,215]\u001b[0m Trial 13 finished with value: 0.8971929283112133 and parameters: {'n_estimators': 300, 'max_depth': 2, 'min_samples_split': 5, 'min_samples_leaf': 1, 'bootstrap': True}. Best is trial 13 with value: 0.8971929283112133.\u001b[0m\n",
      "\u001b[32m[I 2021-08-24 17:46:30,181]\u001b[0m Trial 14 finished with value: 0.8885216576085256 and parameters: {'n_estimators': 300, 'max_depth': 3, 'min_samples_split': 5, 'min_samples_leaf': 2, 'bootstrap': True}. Best is trial 13 with value: 0.8971929283112133.\u001b[0m\n",
      "\u001b[32m[I 2021-08-24 17:46:45,723]\u001b[0m Trial 15 finished with value: 0.888730088895648 and parameters: {'n_estimators': 340, 'max_depth': 2, 'min_samples_split': 5, 'min_samples_leaf': 2, 'bootstrap': True}. Best is trial 13 with value: 0.8971929283112133.\u001b[0m\n",
      "\u001b[32m[I 2021-08-24 17:46:55,007]\u001b[0m Trial 16 pruned. \u001b[0m\n",
      "\u001b[32m[I 2021-08-24 17:47:11,671]\u001b[0m Trial 17 finished with value: 0.8976502503358865 and parameters: {'n_estimators': 380, 'max_depth': 1, 'min_samples_split': 5, 'min_samples_leaf': 1, 'bootstrap': True}. Best is trial 17 with value: 0.8976502503358865.\u001b[0m\n",
      "\u001b[32m[I 2021-08-24 17:47:27,098]\u001b[0m Trial 18 finished with value: 0.8888871364380266 and parameters: {'n_estimators': 400, 'max_depth': 1, 'min_samples_split': 5, 'min_samples_leaf': 2, 'bootstrap': True}. Best is trial 17 with value: 0.8976502503358865.\u001b[0m\n",
      "\u001b[32m[I 2021-08-24 17:47:43,650]\u001b[0m Trial 19 pruned. \u001b[0m\n",
      "\u001b[32m[I 2021-08-24 17:48:00,711]\u001b[0m Trial 20 finished with value: 0.9044415186500744 and parameters: {'n_estimators': 340, 'max_depth': 3, 'min_samples_split': 3, 'min_samples_leaf': 1, 'bootstrap': True}. Best is trial 20 with value: 0.9044415186500744.\u001b[0m\n",
      "\u001b[32m[I 2021-08-24 17:48:17,893]\u001b[0m Trial 21 finished with value: 0.9044415186500744 and parameters: {'n_estimators': 340, 'max_depth': 3, 'min_samples_split': 3, 'min_samples_leaf': 1, 'bootstrap': True}. Best is trial 20 with value: 0.9044415186500744.\u001b[0m\n",
      "\u001b[32m[I 2021-08-24 17:48:35,218]\u001b[0m Trial 22 finished with value: 0.8924348753071405 and parameters: {'n_estimators': 360, 'max_depth': 5, 'min_samples_split': 3, 'min_samples_leaf': 2, 'bootstrap': True}. Best is trial 20 with value: 0.9044415186500744.\u001b[0m\n",
      "\u001b[32m[I 2021-08-24 17:48:57,073]\u001b[0m Trial 23 finished with value: 0.9046204409378809 and parameters: {'n_estimators': 440, 'max_depth': 3, 'min_samples_split': 3, 'min_samples_leaf': 1, 'bootstrap': True}. Best is trial 23 with value: 0.9046204409378809.\u001b[0m\n",
      "\u001b[32m[I 2021-08-24 17:49:18,275]\u001b[0m Trial 24 finished with value: 0.9046408072890538 and parameters: {'n_estimators': 420, 'max_depth': 3, 'min_samples_split': 3, 'min_samples_leaf': 1, 'bootstrap': True}. Best is trial 24 with value: 0.9046408072890538.\u001b[0m\n",
      "\u001b[32m[I 2021-08-24 17:49:38,226]\u001b[0m Trial 25 finished with value: 0.8926269792761903 and parameters: {'n_estimators': 440, 'max_depth': 3, 'min_samples_split': 3, 'min_samples_leaf': 2, 'bootstrap': True}. Best is trial 24 with value: 0.9046408072890538.\u001b[0m\n",
      "\u001b[32m[I 2021-08-24 17:50:03,283]\u001b[0m Trial 26 finished with value: 0.9045328949842263 and parameters: {'n_estimators': 480, 'max_depth': 4, 'min_samples_split': 3, 'min_samples_leaf': 1, 'bootstrap': True}. Best is trial 24 with value: 0.9046408072890538.\u001b[0m\n",
      "\u001b[32m[I 2021-08-24 17:50:32,400]\u001b[0m Trial 27 finished with value: 0.8925233465013698 and parameters: {'n_estimators': 600, 'max_depth': 5, 'min_samples_split': 2, 'min_samples_leaf': 2, 'bootstrap': True}. Best is trial 24 with value: 0.9046408072890538.\u001b[0m\n",
      "\u001b[32m[I 2021-08-24 17:50:58,208]\u001b[0m Trial 28 finished with value: 0.9045662403388158 and parameters: {'n_estimators': 500, 'max_depth': 4, 'min_samples_split': 3, 'min_samples_leaf': 1, 'bootstrap': True}. Best is trial 24 with value: 0.9046408072890538.\u001b[0m\n",
      "\u001b[32m[I 2021-08-24 17:51:21,520]\u001b[0m Trial 29 finished with value: 0.892657443102146 and parameters: {'n_estimators': 520, 'max_depth': 4, 'min_samples_split': 4, 'min_samples_leaf': 2, 'bootstrap': True}. Best is trial 24 with value: 0.9046408072890538.\u001b[0m\n",
      "\u001b[32m[I 2021-08-24 17:51:41,863]\u001b[0m Trial 30 pruned. \u001b[0m\n",
      "\u001b[32m[I 2021-08-24 17:52:08,138]\u001b[0m Trial 31 finished with value: 0.904618458246112 and parameters: {'n_estimators': 460, 'max_depth': 4, 'min_samples_split': 3, 'min_samples_leaf': 1, 'bootstrap': True}. Best is trial 24 with value: 0.9046408072890538.\u001b[0m\n",
      "\u001b[32m[I 2021-08-24 17:52:32,194]\u001b[0m Trial 32 finished with value: 0.9046408072890538 and parameters: {'n_estimators': 420, 'max_depth': 5, 'min_samples_split': 3, 'min_samples_leaf': 1, 'bootstrap': True}. Best is trial 24 with value: 0.9046408072890538.\u001b[0m\n",
      "\u001b[32m[I 2021-08-24 17:52:57,141]\u001b[0m Trial 33 finished with value: 0.9046408072890538 and parameters: {'n_estimators': 420, 'max_depth': 6, 'min_samples_split': 3, 'min_samples_leaf': 1, 'bootstrap': True}. Best is trial 24 with value: 0.9046408072890538.\u001b[0m\n",
      "\u001b[32m[I 2021-08-24 17:53:15,979]\u001b[0m Trial 34 finished with value: 0.8926910825363543 and parameters: {'n_estimators': 420, 'max_depth': 6, 'min_samples_split': 4, 'min_samples_leaf': 2, 'bootstrap': False}. Best is trial 24 with value: 0.9046408072890538.\u001b[0m\n",
      "\u001b[32m[I 2021-08-24 17:53:44,040]\u001b[0m Trial 35 finished with value: 0.9062711868958608 and parameters: {'n_estimators': 420, 'max_depth': 6, 'min_samples_split': 2, 'min_samples_leaf': 1, 'bootstrap': True}. Best is trial 35 with value: 0.9062711868958608.\u001b[0m\n"
     ]
    },
    {
     "name": "stderr",
     "output_type": "stream",
     "text": [
      "\u001b[32m[I 2021-08-24 17:54:10,809]\u001b[0m Trial 36 finished with value: 0.9061317778893246 and parameters: {'n_estimators': 400, 'max_depth': 6, 'min_samples_split': 2, 'min_samples_leaf': 1, 'bootstrap': False}. Best is trial 35 with value: 0.9062711868958608.\u001b[0m\n",
      "\u001b[32m[I 2021-08-24 17:54:29,125]\u001b[0m Trial 37 pruned. \u001b[0m\n",
      "\u001b[32m[I 2021-08-24 17:54:49,664]\u001b[0m Trial 38 pruned. \u001b[0m\n",
      "\u001b[32m[I 2021-08-24 17:55:07,304]\u001b[0m Trial 39 pruned. \u001b[0m\n"
     ]
    },
    {
     "name": "stdout",
     "output_type": "stream",
     "text": [
      "FrozenTrial(number=35, values=[0.9062711868958608], datetime_start=datetime.datetime(2021, 8, 24, 17, 53, 17, 997354), datetime_complete=datetime.datetime(2021, 8, 24, 17, 53, 40, 507355), params={'n_estimators': 420, 'max_depth': 6, 'min_samples_split': 2, 'min_samples_leaf': 1, 'bootstrap': True}, distributions={'n_estimators': IntUniformDistribution(high=600, low=60, step=20), 'max_depth': IntUniformDistribution(high=6, low=1, step=1), 'min_samples_split': IntUniformDistribution(high=6, low=2, step=1), 'min_samples_leaf': IntUniformDistribution(high=6, low=1, step=1), 'bootstrap': CategoricalDistribution(choices=(True, False))}, user_attrs={'best_model': ExtraTreesRegressor(bootstrap=True, n_estimators=420, n_jobs=-1, oob_score=True,\n",
      "                    random_state=0)}, system_attrs={}, intermediate_values={0: 0.9062711868958608}, trial_id=35, state=TrialState.COMPLETE, value=None)\n"
     ]
    },
    {
     "name": "stderr",
     "output_type": "stream",
     "text": [
      "100%|████████████████████████████████████████████████████████████████████████████████████████████████████████████████████████████████████████████████████████████████████████████████████████████████████████| 1/1 [11:49<00:00, 709.82s/it]"
     ]
    },
    {
     "name": "stdout",
     "output_type": "stream",
     "text": [
      "\n",
      "\n",
      "Model concluded:  ExtraTreesRegressor(bootstrap=True, n_estimators=420, n_jobs=-1, oob_score=True,\n",
      "                    random_state=0) saved as 'Extra_Trees.sav' \n",
      " \n"
     ]
    },
    {
     "name": "stderr",
     "output_type": "stream",
     "text": [
      "\n"
     ]
    }
   ],
   "source": [
    "obj.fit_models(modelList, path='models/ml_models')"
   ]
  },
  {
   "cell_type": "code",
   "execution_count": 14,
   "metadata": {
    "ExecuteTime": {
     "end_time": "2021-08-24T20:55:26.072580Z",
     "start_time": "2021-08-24T20:55:24.046583Z"
    }
   },
   "outputs": [
    {
     "data": {
      "text/html": [
       "<div>\n",
       "<style scoped>\n",
       "    .dataframe tbody tr th:only-of-type {\n",
       "        vertical-align: middle;\n",
       "    }\n",
       "\n",
       "    .dataframe tbody tr th {\n",
       "        vertical-align: top;\n",
       "    }\n",
       "\n",
       "    .dataframe thead th {\n",
       "        text-align: right;\n",
       "    }\n",
       "</style>\n",
       "<table border=\"1\" class=\"dataframe\">\n",
       "  <thead>\n",
       "    <tr style=\"text-align: right;\">\n",
       "      <th></th>\n",
       "      <th>MAE</th>\n",
       "      <th>MAPE</th>\n",
       "      <th>RMSE</th>\n",
       "      <th>R2</th>\n",
       "    </tr>\n",
       "  </thead>\n",
       "  <tbody>\n",
       "    <tr>\n",
       "      <th>Extra_Trees</th>\n",
       "      <td>1.270207</td>\n",
       "      <td>2.100391</td>\n",
       "      <td>1.738592</td>\n",
       "      <td>0.906271</td>\n",
       "    </tr>\n",
       "  </tbody>\n",
       "</table>\n",
       "</div>"
      ],
      "text/plain": [
       "                  MAE      MAPE      RMSE        R2\n",
       "Extra_Trees  1.270207  2.100391  1.738592  0.906271"
      ]
     },
     "execution_count": 14,
     "metadata": {},
     "output_type": "execute_result"
    }
   ],
   "source": [
    "obj.models_performace()"
   ]
  },
  {
   "cell_type": "markdown",
   "metadata": {},
   "source": [
    "# Loading best model"
   ]
  },
  {
   "cell_type": "code",
   "execution_count": null,
   "metadata": {
    "ExecuteTime": {
     "end_time": "2021-08-24T20:55:29.217067Z",
     "start_time": "2021-08-24T20:43:21.096Z"
    }
   },
   "outputs": [],
   "source": [
    "a = RegModels(modo=\"load\", X_trainS=X_scaled_train,X_testS=X_scaled_test, y_trainS=y_train, y_testS=y_test)\n",
    "\n",
    "models = ['Lasso',\n",
    "          'Ridge',\n",
    "          'Elastic_Net',\n",
    "          'SGD_Reg',\n",
    "          'Random_Forest',\n",
    "          'Extra_Trees',\n",
    "          'Ada_Boost',\n",
    "          'XGBR',\n",
    "          'Cat_Boost',\n",
    "          'Light_Boost']\n",
    "\n",
    "\n",
    "a.fit_models(models, path='models/ml_models')"
   ]
  },
  {
   "cell_type": "code",
   "execution_count": null,
   "metadata": {
    "ExecuteTime": {
     "end_time": "2021-08-24T20:55:29.221068Z",
     "start_time": "2021-08-24T20:43:21.098Z"
    }
   },
   "outputs": [],
   "source": [
    "a.get_Fitted_Models()"
   ]
  },
  {
   "cell_type": "code",
   "execution_count": null,
   "metadata": {
    "ExecuteTime": {
     "end_time": "2021-08-24T20:55:29.224070Z",
     "start_time": "2021-08-24T20:43:21.101Z"
    }
   },
   "outputs": [],
   "source": [
    "table = a.models_performace(models)\n",
    "table"
   ]
  },
  {
   "cell_type": "code",
   "execution_count": null,
   "metadata": {
    "ExecuteTime": {
     "end_time": "2021-08-24T20:55:29.226070Z",
     "start_time": "2021-08-24T20:43:21.103Z"
    }
   },
   "outputs": [],
   "source": [
    "table.to_csv(r'C:\\Users\\arthu\\Downloads\\my_data.csv', index=False)"
   ]
  },
  {
   "cell_type": "code",
   "execution_count": null,
   "metadata": {
    "ExecuteTime": {
     "end_time": "2021-08-24T20:55:29.228090Z",
     "start_time": "2021-08-24T20:43:21.105Z"
    }
   },
   "outputs": [],
   "source": [
    "#def load_model(name, path):\n",
    "#    import pickle\n",
    "#    filename = path + '/' + name\n",
    "#    loaded_model = pickle.load(open(filename, 'rb'))\n",
    "#    return loaded_model\n",
    "\n",
    "#path = 'models/ml_models'\n",
    "#knn = load_model('Light_Boost.sav',path=path)"
   ]
  },
  {
   "cell_type": "code",
   "execution_count": null,
   "metadata": {
    "ExecuteTime": {
     "end_time": "2021-08-24T20:55:29.231076Z",
     "start_time": "2021-08-24T20:43:21.108Z"
    }
   },
   "outputs": [],
   "source": [
    "cv = KFold(n_splits=5, shuffle=True,random_state=0)\n",
    "summary_plot(knn, X_scaled_train, y_train, X_scaled_test,y_test, cv, train_sizes=np.linspace(0.1, 1, 5),lc=False)"
   ]
  },
  {
   "cell_type": "code",
   "execution_count": null,
   "metadata": {
    "ExecuteTime": {
     "end_time": "2021-08-24T20:55:29.233069Z",
     "start_time": "2021-08-24T20:43:21.111Z"
    }
   },
   "outputs": [],
   "source": [
    "y_test_ordered = pd.DataFrame(y_test.sort_index(ascending=True))\n",
    "y_test_ordered = y_test_ordered.to_numpy()\n",
    "y_test_ordered"
   ]
  },
  {
   "cell_type": "code",
   "execution_count": null,
   "metadata": {
    "ExecuteTime": {
     "end_time": "2021-08-24T20:55:29.235067Z",
     "start_time": "2021-08-24T20:43:21.113Z"
    }
   },
   "outputs": [],
   "source": [
    "X_test_ordered = X_scaled_test.sort_index(ascending=True)\n",
    "yhat = knn.predict(X_test_ordered)\n",
    "yhat"
   ]
  },
  {
   "cell_type": "code",
   "execution_count": null,
   "metadata": {
    "ExecuteTime": {
     "end_time": "2021-08-24T20:55:29.237071Z",
     "start_time": "2021-08-24T20:43:21.119Z"
    }
   },
   "outputs": [],
   "source": [
    "metrics(y_test_ordered,yhat)"
   ]
  },
  {
   "cell_type": "code",
   "execution_count": null,
   "metadata": {
    "ExecuteTime": {
     "end_time": "2021-08-24T20:55:29.240069Z",
     "start_time": "2021-08-24T20:43:21.121Z"
    }
   },
   "outputs": [],
   "source": [
    "plt.plot(y_test_ordered, label='Real irregularity')\n",
    "plt.plot(yhat, label='Predicted Irregularity')\n",
    "plt.legend()"
   ]
  },
  {
   "cell_type": "code",
   "execution_count": null,
   "metadata": {
    "ExecuteTime": {
     "end_time": "2021-08-24T20:55:29.242071Z",
     "start_time": "2021-08-24T20:43:21.123Z"
    }
   },
   "outputs": [],
   "source": [
    "error = y_test_ordered.reshape(-1,) - yhat\n",
    "plt.plot(error)\n",
    "plt.ylabel('Error (mm)')\n",
    "plt.xlabel('Index')"
   ]
  },
  {
   "cell_type": "code",
   "execution_count": null,
   "metadata": {
    "ExecuteTime": {
     "end_time": "2021-08-24T20:55:29.245075Z",
     "start_time": "2021-08-24T20:43:21.127Z"
    }
   },
   "outputs": [],
   "source": [
    "ax,fig = plt.subplots(1,1,figsize=(20,6))\n",
    "\n",
    "plt.plot(y_test_ordered, label='Real irregularity')\n",
    "plt.plot(yhat, label='Predicted Irregularity')\n",
    "plt.legend()\n",
    "plt.ylabel('Vertical irregularity (mm)')\n",
    "plt.xlabel('Index')\n",
    "\n",
    "plt.xlim([200, 400])\n",
    "plt.ylim([-15, 15])"
   ]
  },
  {
   "cell_type": "markdown",
   "metadata": {},
   "source": [
    "# Ensemble"
   ]
  },
  {
   "cell_type": "code",
   "execution_count": null,
   "metadata": {
    "ExecuteTime": {
     "end_time": "2021-08-24T20:55:29.247072Z",
     "start_time": "2021-08-24T20:43:21.151Z"
    }
   },
   "outputs": [],
   "source": [
    "#obj.get_Fitted_Models()"
   ]
  },
  {
   "cell_type": "code",
   "execution_count": null,
   "metadata": {
    "ExecuteTime": {
     "end_time": "2021-08-24T20:55:29.248084Z",
     "start_time": "2021-08-24T20:43:21.153Z"
    }
   },
   "outputs": [],
   "source": [
    "#ensemble_model = obj.stack_models()"
   ]
  },
  {
   "cell_type": "code",
   "execution_count": null,
   "metadata": {
    "ExecuteTime": {
     "end_time": "2021-08-24T20:55:29.249071Z",
     "start_time": "2021-08-24T20:43:21.155Z"
    }
   },
   "outputs": [],
   "source": [
    "# ensemble_model.fit(X_scaled_train,y_train)\n",
    "# ensemble_model.score(X_scaled_test, y_test)"
   ]
  }
 ],
 "metadata": {
  "colab": {
   "collapsed_sections": [
    "WEIz2lLMqU4n"
   ],
   "name": "Artigo_IrregV5_Pires.ipynb",
   "provenance": []
  },
  "interpreter": {
   "hash": "18e03f19e2eea32137bb6b7634899948883c996f0eeacfc3548045b6b15590e6"
  },
  "kernelspec": {
   "display_name": "Python 3",
   "language": "python",
   "name": "python3"
  },
  "language_info": {
   "codemirror_mode": {
    "name": "ipython",
    "version": 3
   },
   "file_extension": ".py",
   "mimetype": "text/x-python",
   "name": "python",
   "nbconvert_exporter": "python",
   "pygments_lexer": "ipython3",
   "version": "3.8.8"
  },
  "latex_envs": {
   "LaTeX_envs_menu_present": true,
   "autoclose": false,
   "autocomplete": true,
   "bibliofile": "biblio.bib",
   "cite_by": "apalike",
   "current_citInitial": 1,
   "eqLabelWithNumbers": true,
   "eqNumInitial": 1,
   "hotkeys": {
    "equation": "Ctrl-E",
    "itemize": "Ctrl-I"
   },
   "labels_anchors": false,
   "latex_user_defs": false,
   "report_style_numbering": false,
   "user_envs_cfg": false
  },
  "toc": {
   "base_numbering": 1,
   "nav_menu": {},
   "number_sections": true,
   "sideBar": true,
   "skip_h1_title": false,
   "title_cell": "Table of Contents",
   "title_sidebar": "Contents",
   "toc_cell": false,
   "toc_position": {
    "height": "calc(100% - 180px)",
    "left": "10px",
    "top": "150px",
    "width": "383.984px"
   },
   "toc_section_display": true,
   "toc_window_display": false
  },
  "varInspector": {
   "cols": {
    "lenName": 16,
    "lenType": 16,
    "lenVar": 40
   },
   "kernels_config": {
    "python": {
     "delete_cmd_postfix": "",
     "delete_cmd_prefix": "del ",
     "library": "var_list.py",
     "varRefreshCmd": "print(var_dic_list())"
    },
    "r": {
     "delete_cmd_postfix": ") ",
     "delete_cmd_prefix": "rm(",
     "library": "var_list.r",
     "varRefreshCmd": "cat(var_dic_list()) "
    }
   },
   "oldHeight": 309.391,
   "position": {
    "height": "540.391px",
    "left": "1006.39px",
    "right": "20px",
    "top": "85px",
    "width": "800px"
   },
   "types_to_exclude": [
    "module",
    "function",
    "builtin_function_or_method",
    "instance",
    "_Feature"
   ],
   "varInspector_section_display": "block",
   "window_display": false
  }
 },
 "nbformat": 4,
 "nbformat_minor": 4
}
